{
 "cells": [
  {
   "cell_type": "markdown",
   "metadata": {
    "id": "tUfcfZo1cpm0"
   },
   "source": [
    "## Preprocessing"
   ]
  },
  {
   "cell_type": "code",
   "execution_count": 2,
   "metadata": {
    "colab": {
     "base_uri": "https://localhost:8080/",
     "height": 496
    },
    "id": "qx76UOh1cpm3",
    "outputId": "1d047859-b275-4e80-d2e6-eaf50953dd59"
   },
   "outputs": [
    {
     "output_type": "execute_result",
     "data": {
      "text/plain": [
       "        EIN                                      NAME APPLICATION_TYPE  \\\n",
       "0  10520599              BLUE KNIGHTS MOTORCYCLE CLUB              T10   \n",
       "1  10531628    AMERICAN CHESAPEAKE CLUB CHARITABLE TR               T3   \n",
       "2  10547893        ST CLOUD PROFESSIONAL FIREFIGHTERS               T5   \n",
       "3  10553066            SOUTHSIDE ATHLETIC ASSOCIATION               T3   \n",
       "4  10556103  GENETIC RESEARCH INSTITUTE OF THE DESERT               T3   \n",
       "\n",
       "        AFFILIATION CLASSIFICATION      USE_CASE  ORGANIZATION  STATUS  \\\n",
       "0       Independent          C1000    ProductDev   Association       1   \n",
       "1       Independent          C2000  Preservation  Co-operative       1   \n",
       "2  CompanySponsored          C3000    ProductDev   Association       1   \n",
       "3  CompanySponsored          C2000  Preservation         Trust       1   \n",
       "4       Independent          C1000     Heathcare         Trust       1   \n",
       "\n",
       "      INCOME_AMT SPECIAL_CONSIDERATIONS  ASK_AMT  IS_SUCCESSFUL  \n",
       "0              0                      N     5000              1  \n",
       "1         1-9999                      N   108590              1  \n",
       "2              0                      N     5000              0  \n",
       "3    10000-24999                      N     6692              1  \n",
       "4  100000-499999                      N   142590              1  "
      ],
      "text/html": [
       "\n",
       "  <div id=\"df-daf6f12d-9146-47fa-80e4-b6be0bce6298\">\n",
       "    <div class=\"colab-df-container\">\n",
       "      <div>\n",
       "<style scoped>\n",
       "    .dataframe tbody tr th:only-of-type {\n",
       "        vertical-align: middle;\n",
       "    }\n",
       "\n",
       "    .dataframe tbody tr th {\n",
       "        vertical-align: top;\n",
       "    }\n",
       "\n",
       "    .dataframe thead th {\n",
       "        text-align: right;\n",
       "    }\n",
       "</style>\n",
       "<table border=\"1\" class=\"dataframe\">\n",
       "  <thead>\n",
       "    <tr style=\"text-align: right;\">\n",
       "      <th></th>\n",
       "      <th>EIN</th>\n",
       "      <th>NAME</th>\n",
       "      <th>APPLICATION_TYPE</th>\n",
       "      <th>AFFILIATION</th>\n",
       "      <th>CLASSIFICATION</th>\n",
       "      <th>USE_CASE</th>\n",
       "      <th>ORGANIZATION</th>\n",
       "      <th>STATUS</th>\n",
       "      <th>INCOME_AMT</th>\n",
       "      <th>SPECIAL_CONSIDERATIONS</th>\n",
       "      <th>ASK_AMT</th>\n",
       "      <th>IS_SUCCESSFUL</th>\n",
       "    </tr>\n",
       "  </thead>\n",
       "  <tbody>\n",
       "    <tr>\n",
       "      <th>0</th>\n",
       "      <td>10520599</td>\n",
       "      <td>BLUE KNIGHTS MOTORCYCLE CLUB</td>\n",
       "      <td>T10</td>\n",
       "      <td>Independent</td>\n",
       "      <td>C1000</td>\n",
       "      <td>ProductDev</td>\n",
       "      <td>Association</td>\n",
       "      <td>1</td>\n",
       "      <td>0</td>\n",
       "      <td>N</td>\n",
       "      <td>5000</td>\n",
       "      <td>1</td>\n",
       "    </tr>\n",
       "    <tr>\n",
       "      <th>1</th>\n",
       "      <td>10531628</td>\n",
       "      <td>AMERICAN CHESAPEAKE CLUB CHARITABLE TR</td>\n",
       "      <td>T3</td>\n",
       "      <td>Independent</td>\n",
       "      <td>C2000</td>\n",
       "      <td>Preservation</td>\n",
       "      <td>Co-operative</td>\n",
       "      <td>1</td>\n",
       "      <td>1-9999</td>\n",
       "      <td>N</td>\n",
       "      <td>108590</td>\n",
       "      <td>1</td>\n",
       "    </tr>\n",
       "    <tr>\n",
       "      <th>2</th>\n",
       "      <td>10547893</td>\n",
       "      <td>ST CLOUD PROFESSIONAL FIREFIGHTERS</td>\n",
       "      <td>T5</td>\n",
       "      <td>CompanySponsored</td>\n",
       "      <td>C3000</td>\n",
       "      <td>ProductDev</td>\n",
       "      <td>Association</td>\n",
       "      <td>1</td>\n",
       "      <td>0</td>\n",
       "      <td>N</td>\n",
       "      <td>5000</td>\n",
       "      <td>0</td>\n",
       "    </tr>\n",
       "    <tr>\n",
       "      <th>3</th>\n",
       "      <td>10553066</td>\n",
       "      <td>SOUTHSIDE ATHLETIC ASSOCIATION</td>\n",
       "      <td>T3</td>\n",
       "      <td>CompanySponsored</td>\n",
       "      <td>C2000</td>\n",
       "      <td>Preservation</td>\n",
       "      <td>Trust</td>\n",
       "      <td>1</td>\n",
       "      <td>10000-24999</td>\n",
       "      <td>N</td>\n",
       "      <td>6692</td>\n",
       "      <td>1</td>\n",
       "    </tr>\n",
       "    <tr>\n",
       "      <th>4</th>\n",
       "      <td>10556103</td>\n",
       "      <td>GENETIC RESEARCH INSTITUTE OF THE DESERT</td>\n",
       "      <td>T3</td>\n",
       "      <td>Independent</td>\n",
       "      <td>C1000</td>\n",
       "      <td>Heathcare</td>\n",
       "      <td>Trust</td>\n",
       "      <td>1</td>\n",
       "      <td>100000-499999</td>\n",
       "      <td>N</td>\n",
       "      <td>142590</td>\n",
       "      <td>1</td>\n",
       "    </tr>\n",
       "  </tbody>\n",
       "</table>\n",
       "</div>\n",
       "      <button class=\"colab-df-convert\" onclick=\"convertToInteractive('df-daf6f12d-9146-47fa-80e4-b6be0bce6298')\"\n",
       "              title=\"Convert this dataframe to an interactive table.\"\n",
       "              style=\"display:none;\">\n",
       "        \n",
       "  <svg xmlns=\"http://www.w3.org/2000/svg\" height=\"24px\"viewBox=\"0 0 24 24\"\n",
       "       width=\"24px\">\n",
       "    <path d=\"M0 0h24v24H0V0z\" fill=\"none\"/>\n",
       "    <path d=\"M18.56 5.44l.94 2.06.94-2.06 2.06-.94-2.06-.94-.94-2.06-.94 2.06-2.06.94zm-11 1L8.5 8.5l.94-2.06 2.06-.94-2.06-.94L8.5 2.5l-.94 2.06-2.06.94zm10 10l.94 2.06.94-2.06 2.06-.94-2.06-.94-.94-2.06-.94 2.06-2.06.94z\"/><path d=\"M17.41 7.96l-1.37-1.37c-.4-.4-.92-.59-1.43-.59-.52 0-1.04.2-1.43.59L10.3 9.45l-7.72 7.72c-.78.78-.78 2.05 0 2.83L4 21.41c.39.39.9.59 1.41.59.51 0 1.02-.2 1.41-.59l7.78-7.78 2.81-2.81c.8-.78.8-2.07 0-2.86zM5.41 20L4 18.59l7.72-7.72 1.47 1.35L5.41 20z\"/>\n",
       "  </svg>\n",
       "      </button>\n",
       "      \n",
       "  <style>\n",
       "    .colab-df-container {\n",
       "      display:flex;\n",
       "      flex-wrap:wrap;\n",
       "      gap: 12px;\n",
       "    }\n",
       "\n",
       "    .colab-df-convert {\n",
       "      background-color: #E8F0FE;\n",
       "      border: none;\n",
       "      border-radius: 50%;\n",
       "      cursor: pointer;\n",
       "      display: none;\n",
       "      fill: #1967D2;\n",
       "      height: 32px;\n",
       "      padding: 0 0 0 0;\n",
       "      width: 32px;\n",
       "    }\n",
       "\n",
       "    .colab-df-convert:hover {\n",
       "      background-color: #E2EBFA;\n",
       "      box-shadow: 0px 1px 2px rgba(60, 64, 67, 0.3), 0px 1px 3px 1px rgba(60, 64, 67, 0.15);\n",
       "      fill: #174EA6;\n",
       "    }\n",
       "\n",
       "    [theme=dark] .colab-df-convert {\n",
       "      background-color: #3B4455;\n",
       "      fill: #D2E3FC;\n",
       "    }\n",
       "\n",
       "    [theme=dark] .colab-df-convert:hover {\n",
       "      background-color: #434B5C;\n",
       "      box-shadow: 0px 1px 3px 1px rgba(0, 0, 0, 0.15);\n",
       "      filter: drop-shadow(0px 1px 2px rgba(0, 0, 0, 0.3));\n",
       "      fill: #FFFFFF;\n",
       "    }\n",
       "  </style>\n",
       "\n",
       "      <script>\n",
       "        const buttonEl =\n",
       "          document.querySelector('#df-daf6f12d-9146-47fa-80e4-b6be0bce6298 button.colab-df-convert');\n",
       "        buttonEl.style.display =\n",
       "          google.colab.kernel.accessAllowed ? 'block' : 'none';\n",
       "\n",
       "        async function convertToInteractive(key) {\n",
       "          const element = document.querySelector('#df-daf6f12d-9146-47fa-80e4-b6be0bce6298');\n",
       "          const dataTable =\n",
       "            await google.colab.kernel.invokeFunction('convertToInteractive',\n",
       "                                                     [key], {});\n",
       "          if (!dataTable) return;\n",
       "\n",
       "          const docLinkHtml = 'Like what you see? Visit the ' +\n",
       "            '<a target=\"_blank\" href=https://colab.research.google.com/notebooks/data_table.ipynb>data table notebook</a>'\n",
       "            + ' to learn more about interactive tables.';\n",
       "          element.innerHTML = '';\n",
       "          dataTable['output_type'] = 'display_data';\n",
       "          await google.colab.output.renderOutput(dataTable, element);\n",
       "          const docLink = document.createElement('div');\n",
       "          docLink.innerHTML = docLinkHtml;\n",
       "          element.appendChild(docLink);\n",
       "        }\n",
       "      </script>\n",
       "    </div>\n",
       "  </div>\n",
       "  "
      ]
     },
     "metadata": {},
     "execution_count": 2
    }
   ],
   "source": [
    "# Import our dependencies\n",
    "from sklearn.model_selection import train_test_split\n",
    "from sklearn.preprocessing import StandardScaler\n",
    "import pandas as pd\n",
    "import tensorflow as tf\n",
    "\n",
    "#  Import and read the charity_data.csv.\n",
    "import pandas as pd \n",
    "application_df = pd.read_csv(\"https://static.bc-edx.com/data/dla-1-2/m21/lms/starter/charity_data.csv\")\n",
    "application_df.head()"
   ]
  },
  {
   "cell_type": "code",
   "execution_count": 3,
   "metadata": {
    "id": "2_cbClsHcpm4"
   },
   "outputs": [],
   "source": [
    "# Drop the non-beneficial ID columns, 'EIN' and 'NAME'.\n",
    "application_df.drop(['EIN'], axis=1, inplace=True)"
   ]
  },
  {
   "cell_type": "code",
   "execution_count": 4,
   "metadata": {
    "colab": {
     "base_uri": "https://localhost:8080/"
    },
    "id": "SYnKy3Oxcpm4",
    "outputId": "dd1bc948-7c0c-4f28-8e75-0bf9b256307c"
   },
   "outputs": [
    {
     "output_type": "execute_result",
     "data": {
      "text/plain": [
       "NAME                      19568\n",
       "APPLICATION_TYPE             17\n",
       "AFFILIATION                   6\n",
       "CLASSIFICATION               71\n",
       "USE_CASE                      5\n",
       "ORGANIZATION                  4\n",
       "STATUS                        2\n",
       "INCOME_AMT                    9\n",
       "SPECIAL_CONSIDERATIONS        2\n",
       "ASK_AMT                    8747\n",
       "IS_SUCCESSFUL                 2\n",
       "dtype: int64"
      ]
     },
     "metadata": {},
     "execution_count": 4
    }
   ],
   "source": [
    "# Determine the number of unique values in each column.\n",
    "application_df.nunique()"
   ]
  },
  {
   "cell_type": "code",
   "source": [
    "# I dont know why we were instructed to drop the names column. I have worked with many NPO's and in my experience \n",
    "# there is a degree of bias towards certain names applying. I tried to exclude/bin those with the most applications\n",
    "# which had little success so I binned only those with a single application\n",
    "\n",
    "names = application_df['NAME'].value_counts()\n",
    "# top_50 = list(names.head(50).index)\n",
    "small = list(names[names<2].index)\n",
    "# for name in top_50:\n",
    "#     application_df['NAME'] = application_df['NAME'].replace(name,\"Top_50\")\n",
    "for name in small:\n",
    "  application_df['NAME'] = application_df['NAME'].replace(name,\"Single\")\n",
    "print(names)\n",
    "\n",
    "\n"
   ],
   "metadata": {
    "colab": {
     "base_uri": "https://localhost:8080/"
    },
    "id": "paS8p7-yUmuF",
    "outputId": "d5744d56-1198-4b59-9379-9313db8946e0"
   },
   "execution_count": 5,
   "outputs": [
    {
     "output_type": "stream",
     "name": "stdout",
     "text": [
      "PARENT BOOSTER USA INC                                                  1260\n",
      "TOPS CLUB INC                                                            765\n",
      "UNITED STATES BOWLING CONGRESS INC                                       700\n",
      "WASHINGTON STATE UNIVERSITY                                              492\n",
      "AMATEUR ATHLETIC UNION OF THE UNITED STATES INC                          408\n",
      "                                                                        ... \n",
      "ST LOUIS SLAM WOMENS FOOTBALL                                              1\n",
      "AIESEC ALUMNI IBEROAMERICA CORP                                            1\n",
      "WEALLBLEEDRED ORG INC                                                      1\n",
      "AMERICAN SOCIETY FOR STANDARDS IN MEDIUMSHIP & PSYCHICAL INVESTIGATI       1\n",
      "WATERHOUSE CHARITABLE TR                                                   1\n",
      "Name: NAME, Length: 19568, dtype: int64\n"
     ]
    }
   ]
  },
  {
   "cell_type": "code",
   "source": [
    "affiliation_types=application_df['AFFILIATION'].value_counts()\n",
    "print(affiliation_types)"
   ],
   "metadata": {
    "colab": {
     "base_uri": "https://localhost:8080/"
    },
    "id": "YhNpHqk1kG6h",
    "outputId": "bd67b5ea-e539-4727-da62-9b1519842b69"
   },
   "execution_count": 6,
   "outputs": [
    {
     "output_type": "stream",
     "name": "stdout",
     "text": [
      "Independent         18480\n",
      "CompanySponsored    15705\n",
      "Family/Parent          64\n",
      "National               33\n",
      "Regional               13\n",
      "Other                   4\n",
      "Name: AFFILIATION, dtype: int64\n"
     ]
    }
   ]
  },
  {
   "cell_type": "code",
   "source": [
    "# I looked at the affiliation types and binning had little to no effect.\n",
    "\n",
    "#  affiliation_types_to_replace = affiliation_types.index[affiliation_types.values<100]\n",
    "\n",
    "# # Replace in dataframe\n",
    "# for aff in affiliation_types_to_replace:\n",
    "#     application_df['AFFILIATION'] = application_df['AFFILIATION'].replace(aff,\"Other\")\n",
    "\n",
    "# # Check to make sure binning was successful\n",
    "# application_df['AFFILIATION'].value_counts()"
   ],
   "metadata": {
    "id": "souaLfpfkUrf"
   },
   "execution_count": 7,
   "outputs": []
  },
  {
   "cell_type": "code",
   "execution_count": 8,
   "metadata": {
    "colab": {
     "base_uri": "https://localhost:8080/"
    },
    "id": "OnC6Mowucpm4",
    "outputId": "456be07e-624a-4e6b-bafa-0612b43a2ee6"
   },
   "outputs": [
    {
     "output_type": "stream",
     "name": "stdout",
     "text": [
      "T3     27037\n",
      "T4      1542\n",
      "T6      1216\n",
      "T5      1173\n",
      "T19     1065\n",
      "T8       737\n",
      "T7       725\n",
      "T10      528\n",
      "T9       156\n",
      "T13       66\n",
      "T12       27\n",
      "T2        16\n",
      "T25        3\n",
      "T14        3\n",
      "T29        2\n",
      "T15        2\n",
      "T17        1\n",
      "Name: APPLICATION_TYPE, dtype: int64\n"
     ]
    }
   ],
   "source": [
    "# Look at APPLICATION_TYPE value counts for binning\n",
    "# item_counts = df[\"col1\"].value_counts(normalize=True)\n",
    "application_types=application_df['APPLICATION_TYPE'].value_counts()\n",
    "print(application_types)"
   ]
  },
  {
   "cell_type": "code",
   "execution_count": 9,
   "metadata": {
    "colab": {
     "base_uri": "https://localhost:8080/"
    },
    "id": "DSYrB1Zwcpm4",
    "outputId": "594578ba-5e99-4e98-e937-3667aae6f70c"
   },
   "outputs": [
    {
     "output_type": "execute_result",
     "data": {
      "text/plain": [
       "T3       27037\n",
       "T4        1542\n",
       "T6        1216\n",
       "T5        1173\n",
       "T19       1065\n",
       "T8         737\n",
       "T7         725\n",
       "T10        528\n",
       "Other      276\n",
       "Name: APPLICATION_TYPE, dtype: int64"
      ]
     },
     "metadata": {},
     "execution_count": 9
    }
   ],
   "source": [
    "# Choose a cutoff value and create a list of application types to be replaced\n",
    "# use the variable name `application_types_to_replace`\n",
    "application_types_to_replace = application_types.index[application_types.values<200]\n",
    "\n",
    "# Replace in dataframe\n",
    "for app in application_types_to_replace:\n",
    "    application_df['APPLICATION_TYPE'] = application_df['APPLICATION_TYPE'].replace(app,\"Other\")\n",
    "\n",
    "# Check to make sure binning was successful\n",
    "application_df['APPLICATION_TYPE'].value_counts()"
   ]
  },
  {
   "cell_type": "code",
   "execution_count": 10,
   "metadata": {
    "colab": {
     "base_uri": "https://localhost:8080/"
    },
    "id": "n6y6wiFncpm4",
    "outputId": "d99f5623-711e-421e-8e6c-dac4b9860b8f"
   },
   "outputs": [
    {
     "output_type": "stream",
     "name": "stdout",
     "text": [
      "C1000    17326\n",
      "C2000     6074\n",
      "C1200     4837\n",
      "C3000     1918\n",
      "C2100     1883\n",
      "         ...  \n",
      "C4120        1\n",
      "C8210        1\n",
      "C2561        1\n",
      "C4500        1\n",
      "C2150        1\n",
      "Name: CLASSIFICATION, Length: 71, dtype: int64\n"
     ]
    }
   ],
   "source": [
    "# Look at CLASSIFICATION value counts for binning\n",
    "classification_types=application_df['CLASSIFICATION'].value_counts()\n",
    "print(classification_types)"
   ]
  },
  {
   "cell_type": "code",
   "execution_count": 11,
   "metadata": {
    "colab": {
     "base_uri": "https://localhost:8080/"
    },
    "id": "NB0w5vWpcpm4",
    "outputId": "71cfae20-15ed-40c1-c204-deabbc2e85ca"
   },
   "outputs": [
    {
     "output_type": "stream",
     "name": "stdout",
     "text": [
      "<bound method IndexOpsMixin.value_counts of C1000    17326\n",
      "C2000     6074\n",
      "C1200     4837\n",
      "C3000     1918\n",
      "C2100     1883\n",
      "C7000      777\n",
      "C1700      287\n",
      "C4000      194\n",
      "C5000      116\n",
      "C1270      114\n",
      "C2700      104\n",
      "C2800       95\n",
      "C7100       75\n",
      "C1300       58\n",
      "C1280       50\n",
      "C1230       36\n",
      "C1400       34\n",
      "C7200       32\n",
      "C2300       32\n",
      "C1240       30\n",
      "C8000       20\n",
      "C7120       18\n",
      "C1500       16\n",
      "C1800       15\n",
      "C6000       15\n",
      "C1250       14\n",
      "C8200       11\n",
      "C1238       10\n",
      "C1278       10\n",
      "C1235        9\n",
      "C1237        9\n",
      "C7210        7\n",
      "C2400        6\n",
      "C1720        6\n",
      "C4100        6\n",
      "C1257        5\n",
      "C1600        5\n",
      "C1260        3\n",
      "C2710        3\n",
      "C0           3\n",
      "C3200        2\n",
      "C1234        2\n",
      "C1246        2\n",
      "C1267        2\n",
      "C1256        2\n",
      "Name: CLASSIFICATION, dtype: int64>\n"
     ]
    }
   ],
   "source": [
    "# You may find it helpful to look at CLASSIFICATION value counts >1\n",
    "classification_gr1 = classification_types[classification_types.values>1].value_counts\n",
    "print(classification_gr1)"
   ]
  },
  {
   "cell_type": "code",
   "execution_count": 12,
   "metadata": {
    "colab": {
     "base_uri": "https://localhost:8080/"
    },
    "id": "JLywjFqvcpm4",
    "outputId": "dd2f44f9-9716-4aa2-f399-b66c3e715661"
   },
   "outputs": [
    {
     "output_type": "execute_result",
     "data": {
      "text/plain": [
       "C1000    17326\n",
       "C2000     6074\n",
       "C1200     4837\n",
       "C3000     1918\n",
       "C2100     1883\n",
       "C7000      777\n",
       "Other      669\n",
       "C1700      287\n",
       "C4000      194\n",
       "C5000      116\n",
       "C1270      114\n",
       "C2700      104\n",
       "Name: CLASSIFICATION, dtype: int64"
      ]
     },
     "metadata": {},
     "execution_count": 12
    }
   ],
   "source": [
    "# Choose a cutoff value and create a list of classifications to be replaced\n",
    "# use the variable name `classifications_to_replace`\n",
    "classifications_to_replace = classification_types.index[classification_types.values<100]\n",
    "\n",
    "# Replace in dataframe\n",
    "for cls in classifications_to_replace:\n",
    "    application_df['CLASSIFICATION'] = application_df['CLASSIFICATION'].replace(cls,\"Other\")\n",
    "    \n",
    "# Check to make sure binning was successful\n",
    "application_df['CLASSIFICATION'].value_counts()"
   ]
  },
  {
   "cell_type": "code",
   "execution_count": 13,
   "metadata": {
    "id": "LZX_sML3cpm5"
   },
   "outputs": [],
   "source": [
    "# Convert categorical data to numeric with `pd.get_dummies`\n",
    "application_df = pd.get_dummies(application_df, dtype=float)"
   ]
  },
  {
   "cell_type": "code",
   "execution_count": 14,
   "metadata": {
    "id": "2BOOeLCacpm5"
   },
   "outputs": [],
   "source": [
    "# Split our preprocessed data into our features and target arrays\n",
    "y = application_df['IS_SUCCESSFUL']\n",
    "X= application_df.drop(['IS_SUCCESSFUL'], axis=1)\n",
    "\n",
    "# Split the preprocessed data into a training and testing dataset\n",
    "X_train, X_test, y_train, y_test = train_test_split(X,y, random_state=999)"
   ]
  },
  {
   "cell_type": "code",
   "execution_count": 15,
   "metadata": {
    "id": "AUtQZLEFcpm5"
   },
   "outputs": [],
   "source": [
    "# Create a StandardScaler instances\n",
    "scaler = StandardScaler()\n",
    "\n",
    "# Fit the StandardScaler\n",
    "X_scaler = scaler.fit(X_train)\n",
    "\n",
    "# Scale the data\n",
    "X_train_scaled = X_scaler.transform(X_train)\n",
    "X_test_scaled = X_scaler.transform(X_test)"
   ]
  },
  {
   "cell_type": "markdown",
   "metadata": {
    "id": "rXqXL-3gcpm5"
   },
   "source": [
    "## Compile, Train and Evaluate the Model"
   ]
  },
  {
   "cell_type": "code",
   "execution_count": 16,
   "metadata": {
    "colab": {
     "base_uri": "https://localhost:8080/"
    },
    "id": "qUGRsfxIcpm5",
    "outputId": "8eacbd96-411e-423c-edab-9ae3c082cd77"
   },
   "outputs": [
    {
     "output_type": "stream",
     "name": "stdout",
     "text": [
      "Model: \"sequential\"\n",
      "_________________________________________________________________\n",
      " Layer (type)                Output Shape              Param #   \n",
      "=================================================================\n",
      " dense (Dense)               (None, 400)               337200    \n",
      "                                                                 \n",
      " dense_1 (Dense)             (None, 200)               80400     \n",
      "                                                                 \n",
      " dense_2 (Dense)             (None, 200)               40400     \n",
      "                                                                 \n",
      " dense_3 (Dense)             (None, 200)               40400     \n",
      "                                                                 \n",
      " dense_4 (Dense)             (None, 1)                 201       \n",
      "                                                                 \n",
      "=================================================================\n",
      "Total params: 498,201\n",
      "Trainable params: 498,201\n",
      "Non-trainable params: 0\n",
      "_________________________________________________________________\n"
     ]
    }
   ],
   "source": [
    "# Define the model - deep neural net, i.e., the number of input features and hidden nodes for each layer.\n",
    "count_features = X_train_scaled.shape[1]\n",
    "nodes_layer1 = 400\n",
    "nodes_layer2 = 200\n",
    "nodes_layer3 = 200\n",
    "nodes_layer4 = 200\n",
    "\n",
    "nn = tf.keras.models.Sequential()\n",
    "\n",
    "# First hidden layer\n",
    "nn.add(tf.keras.layers.Dense(units=nodes_layer1, activation=\"relu\", input_dim=count_features))\n",
    "\n",
    "# Second hidden layer\n",
    "from tensorflow.keras.layers import PReLU, Dense\n",
    "para_relu = PReLU()\n",
    "nn.add(tf.keras.layers.Dense(units=nodes_layer2,activation=para_relu))\n",
    "\n",
    "# Third hidden layer\n",
    "nn.add(tf.keras.layers.Dense(units=nodes_layer3, activation=para_relu))\n",
    "\n",
    "# Fourth hidden layer\n",
    "nn.add(tf.keras.layers.Dense(units=nodes_layer4, activation=para_relu))\n",
    "\n",
    "\n",
    "# Output layer\n",
    "nn.add(tf.keras.layers.Dense(units=1, activation=\"sigmoid\"))\n",
    "\n",
    "# Check the structure of the model\n",
    "nn.summary()"
   ]
  },
  {
   "cell_type": "code",
   "execution_count": 17,
   "metadata": {
    "id": "28W_JtIccpm5"
   },
   "outputs": [],
   "source": [
    "# Compile the model\n",
    "nn.compile(loss=\"binary_crossentropy\", optimizer=\"adam\", metrics=[\"accuracy\"])"
   ]
  },
  {
   "cell_type": "code",
   "execution_count": 18,
   "metadata": {
    "id": "dwzrUvQscpm6",
    "colab": {
     "base_uri": "https://localhost:8080/"
    },
    "outputId": "c1fb25ff-5a32-4d59-8b6f-97d3af34557d"
   },
   "outputs": [
    {
     "output_type": "stream",
     "name": "stdout",
     "text": [
      "Epoch 1/50\n",
      "804/804 [==============================] - 9s 8ms/step - loss: 0.4654 - accuracy: 0.7806\n",
      "Epoch 2/50\n",
      "804/804 [==============================] - 8s 9ms/step - loss: 0.4188 - accuracy: 0.8031\n",
      "Epoch 3/50\n",
      "804/804 [==============================] - 7s 8ms/step - loss: 0.4120 - accuracy: 0.8045\n",
      "Epoch 4/50\n",
      "804/804 [==============================] - 7s 9ms/step - loss: 0.4084 - accuracy: 0.8070\n",
      "Epoch 5/50\n",
      "804/804 [==============================] - 7s 8ms/step - loss: 0.4071 - accuracy: 0.8077\n",
      "Epoch 6/50\n",
      "804/804 [==============================] - 8s 10ms/step - loss: 0.4052 - accuracy: 0.8089\n",
      "Epoch 7/50\n",
      "804/804 [==============================] - 8s 9ms/step - loss: 0.4050 - accuracy: 0.8096\n",
      "Epoch 8/50\n",
      "804/804 [==============================] - 7s 8ms/step - loss: 0.4035 - accuracy: 0.8094\n",
      "Epoch 9/50\n",
      "804/804 [==============================] - 8s 9ms/step - loss: 0.4032 - accuracy: 0.8109\n",
      "Epoch 10/50\n",
      "804/804 [==============================] - 7s 8ms/step - loss: 0.4024 - accuracy: 0.8103\n",
      "Epoch 11/50\n",
      "804/804 [==============================] - 8s 9ms/step - loss: 0.4008 - accuracy: 0.8111\n",
      "Epoch 12/50\n",
      "804/804 [==============================] - 6s 8ms/step - loss: 0.4008 - accuracy: 0.8103\n",
      "Epoch 13/50\n",
      "804/804 [==============================] - 8s 10ms/step - loss: 0.3995 - accuracy: 0.8114\n",
      "Epoch 14/50\n",
      "804/804 [==============================] - 12s 15ms/step - loss: 0.3988 - accuracy: 0.8110\n",
      "Epoch 15/50\n",
      "804/804 [==============================] - 7s 8ms/step - loss: 0.3981 - accuracy: 0.8124\n",
      "Epoch 16/50\n",
      "804/804 [==============================] - 8s 9ms/step - loss: 0.3982 - accuracy: 0.8117\n",
      "Epoch 17/50\n",
      "804/804 [==============================] - 7s 9ms/step - loss: 0.3975 - accuracy: 0.8129\n",
      "Epoch 18/50\n",
      "804/804 [==============================] - 7s 8ms/step - loss: 0.3964 - accuracy: 0.8125\n",
      "Epoch 19/50\n",
      "804/804 [==============================] - 8s 9ms/step - loss: 0.3965 - accuracy: 0.8131\n",
      "Epoch 20/50\n",
      "804/804 [==============================] - 6s 8ms/step - loss: 0.3954 - accuracy: 0.8129\n",
      "Epoch 21/50\n",
      "804/804 [==============================] - 9s 11ms/step - loss: 0.3952 - accuracy: 0.8135\n",
      "Epoch 22/50\n",
      "804/804 [==============================] - 7s 8ms/step - loss: 0.3941 - accuracy: 0.8137\n",
      "Epoch 23/50\n",
      "804/804 [==============================] - 8s 9ms/step - loss: 0.3935 - accuracy: 0.8144\n",
      "Epoch 24/50\n",
      "804/804 [==============================] - 7s 8ms/step - loss: 0.3939 - accuracy: 0.8148\n",
      "Epoch 25/50\n",
      "804/804 [==============================] - 7s 9ms/step - loss: 0.3933 - accuracy: 0.8139\n",
      "Epoch 26/50\n",
      "804/804 [==============================] - 7s 8ms/step - loss: 0.3939 - accuracy: 0.8142\n",
      "Epoch 27/50\n",
      "804/804 [==============================] - 7s 9ms/step - loss: 0.3933 - accuracy: 0.8137\n",
      "Epoch 28/50\n",
      "804/804 [==============================] - 8s 10ms/step - loss: 0.3916 - accuracy: 0.8147\n",
      "Epoch 29/50\n",
      "804/804 [==============================] - 8s 10ms/step - loss: 0.3927 - accuracy: 0.8154\n",
      "Epoch 30/50\n",
      "804/804 [==============================] - 8s 10ms/step - loss: 0.3909 - accuracy: 0.8149\n",
      "Epoch 31/50\n",
      "804/804 [==============================] - 7s 8ms/step - loss: 0.3908 - accuracy: 0.8162\n",
      "Epoch 32/50\n",
      "804/804 [==============================] - 7s 9ms/step - loss: 0.3901 - accuracy: 0.8158\n",
      "Epoch 33/50\n",
      "804/804 [==============================] - 7s 9ms/step - loss: 0.3900 - accuracy: 0.8157\n",
      "Epoch 34/50\n",
      "804/804 [==============================] - 8s 10ms/step - loss: 0.3897 - accuracy: 0.8159\n",
      "Epoch 35/50\n",
      "804/804 [==============================] - 7s 9ms/step - loss: 0.3897 - accuracy: 0.8167\n",
      "Epoch 36/50\n",
      "804/804 [==============================] - 7s 8ms/step - loss: 0.3885 - accuracy: 0.8164\n",
      "Epoch 37/50\n",
      "804/804 [==============================] - 8s 9ms/step - loss: 0.3880 - accuracy: 0.8165\n",
      "Epoch 38/50\n",
      "804/804 [==============================] - 7s 8ms/step - loss: 0.3891 - accuracy: 0.8170\n",
      "Epoch 39/50\n",
      "804/804 [==============================] - 8s 9ms/step - loss: 0.3880 - accuracy: 0.8168\n",
      "Epoch 40/50\n",
      "804/804 [==============================] - 7s 9ms/step - loss: 0.3871 - accuracy: 0.8177\n",
      "Epoch 41/50\n",
      "804/804 [==============================] - 7s 9ms/step - loss: 0.3868 - accuracy: 0.8171\n",
      "Epoch 42/50\n",
      "804/804 [==============================] - 8s 10ms/step - loss: 0.3867 - accuracy: 0.8171\n",
      "Epoch 43/50\n",
      "804/804 [==============================] - 7s 8ms/step - loss: 0.3863 - accuracy: 0.8178\n",
      "Epoch 44/50\n",
      "804/804 [==============================] - 7s 9ms/step - loss: 0.3862 - accuracy: 0.8170\n",
      "Epoch 45/50\n",
      "804/804 [==============================] - 6s 8ms/step - loss: 0.3866 - accuracy: 0.8171\n",
      "Epoch 46/50\n",
      "804/804 [==============================] - 7s 9ms/step - loss: 0.3872 - accuracy: 0.8174\n",
      "Epoch 47/50\n",
      "804/804 [==============================] - 6s 8ms/step - loss: 0.3876 - accuracy: 0.8173\n",
      "Epoch 48/50\n",
      "804/804 [==============================] - 7s 9ms/step - loss: 0.3861 - accuracy: 0.8176\n",
      "Epoch 49/50\n",
      "804/804 [==============================] - 7s 8ms/step - loss: 0.3858 - accuracy: 0.8175\n",
      "Epoch 50/50\n",
      "804/804 [==============================] - 7s 9ms/step - loss: 0.3860 - accuracy: 0.8181\n"
     ]
    }
   ],
   "source": [
    "# Train the model\n",
    "fit_model = nn.fit(X_train_scaled, y_train, epochs=50)"
   ]
  },
  {
   "cell_type": "code",
   "execution_count": 19,
   "metadata": {
    "id": "7N22mHN_cpm6",
    "colab": {
     "base_uri": "https://localhost:8080/"
    },
    "outputId": "45d0d05e-e8b7-471b-cfc5-7def3746ef10"
   },
   "outputs": [
    {
     "output_type": "stream",
     "name": "stdout",
     "text": [
      "268/268 - 1s - loss: 0.6981 - accuracy: 0.8014 - 880ms/epoch - 3ms/step\n",
      "Loss: 0.69805908203125, Accuracy: 0.8013994097709656\n"
     ]
    }
   ],
   "source": [
    "# Evaluate the model using the test data\n",
    "model_loss, model_accuracy = nn.evaluate(X_test_scaled,y_test,verbose=2)\n",
    "print(f\"Loss: {model_loss}, Accuracy: {model_accuracy}\")"
   ]
  },
  {
   "cell_type": "code",
   "execution_count": null,
   "metadata": {
    "id": "UNSAxLvScpm6",
    "colab": {
     "base_uri": "https://localhost:8080/",
     "height": 55
    },
    "outputId": "7db894ca-5f68-459d-e96b-9f9b48cf3ac8",
    "pycharm": {
     "is_executing": true
    }
   },
   "outputs": [],
   "source": [
    "# Export our model to HDF5 file\n",
    "from google.colab import files\n",
    "nn.save('AlphabetSoupCharity_opt3.h5')\n",
    "files.download('AlphabetSoupCharity_opt3.h5')"
   ]
  }
 ],
 "metadata": {
  "kernelspec": {
   "display_name": "Python 3 (ipykernel)",
   "language": "python",
   "name": "python3"
  },
  "language_info": {
   "codemirror_mode": {
    "name": "ipython",
    "version": 3
   },
   "file_extension": ".py",
   "mimetype": "text/x-python",
   "name": "python",
   "nbconvert_exporter": "python",
   "pygments_lexer": "ipython3",
   "version": "3.10.4"
  },
  "vscode": {
   "interpreter": {
    "hash": "31f2aee4e71d21fbe5cf8b01ff0e069b9275f58929596ceb00d14d90e3e16cd6"
   }
  },
  "colab": {
   "provenance": []
  }
 },
 "nbformat": 4,
 "nbformat_minor": 0
}
